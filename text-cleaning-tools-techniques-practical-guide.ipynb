{
 "cells": [
  {
   "cell_type": "markdown",
   "id": "97c89376",
   "metadata": {
    "papermill": {
     "duration": 0.0118,
     "end_time": "2024-11-18T15:25:32.365940",
     "exception": false,
     "start_time": "2024-11-18T15:25:32.354140",
     "status": "completed"
    },
    "tags": []
   },
   "source": [
    "### Introduction\n",
    "Text cleaning is an essential step when preparing raw data for applications such as Natural Language Processing (NLP) and text analysis. Raw text data often includes noise, such as unwanted symbols, excessive whitespace, or inconsistent formatting. These issues can negatively impact the quality and performance of analytical models.\n",
    "\n",
    "In this notebook, we will cover text cleaning techniques using two approaches:\n",
    "\n",
    "Manual Cleaning: Writing systematic code to handle specific issues in text.\n",
    "Using the re Library (Regular Expressions): Employing regular expressions for more efficient and flexible text cleaning.\n",
    "The notebook is structured to first introduce manual methods for handling textual data, providing foundational insights, and then transition to the use of re to streamline the process and address complex patterns. The aim is to give you practical knowledge for cleaning text in a robust and efficient manner."
   ]
  },
  {
   "cell_type": "code",
   "execution_count": 1,
   "id": "aaff3aa2",
   "metadata": {
    "_cell_guid": "b1076dfc-b9ad-4769-8c92-a6c4dae69d19",
    "_uuid": "8f2839f25d086af736a60e9eeb907d3b93b6e0e5",
    "execution": {
     "iopub.execute_input": "2024-11-18T15:25:32.390670Z",
     "iopub.status.busy": "2024-11-18T15:25:32.390205Z",
     "iopub.status.idle": "2024-11-18T15:25:32.401639Z",
     "shell.execute_reply": "2024-11-18T15:25:32.400512Z"
    },
    "papermill": {
     "duration": 0.026945,
     "end_time": "2024-11-18T15:25:32.403953",
     "exception": false,
     "start_time": "2024-11-18T15:25:32.377008",
     "status": "completed"
    },
    "tags": []
   },
   "outputs": [],
   "source": [
    "T='''\n",
    "Wikidata is a free and open knowledge base that can be read and edited by both humans and machines.\n",
    "\n",
    "Wikidata acts as central storage for the structured data of its Wikimedia sister projects including Wikipedia, Wikivoyage, Wiktionary, Wikisource, and others.\n",
    "\n",
    "Wikidata also provides support to many other sites and services beyond just Wikimedia projects! The content of Wikidata is available under a free license, exported using standard formats, and can be interlinked to other open data sets on the linked data web.\n",
    "\n",
    "نادي الزمالك للألعاب الرياضية أو كَما يُعرف اختصارًا بِاسم نادي الزمالك، هو نادٍ رياضي مصري محترف يلعب في الدوري المصري الممتاز، ومقره في الجيزة، وهو واحد من سبعة أندية على مستوى العالم لم تهبط للدرجة الأدنى والوحيد في مصر بجانب النادي الأهلي الذي لم يهبط إلى دوري الدرجة الثانية.\n",
    "\n",
    "تأسس نادي الزمالك للألعاب الرياضية بتاريخ 5 يناير 1911 على يد البلجيكي جورج مرزباخ ليضم في عضويته المصريين والأجانب معًا، وسريعًا قام أعضاء النادي المصريون بثورتهم لتمصير النادي وإبعاد الأجانب عن مجلس الإدارة. أثبت الزمالك نفسه كأحد القوتين الرئيسيتين في كرة القدم المصرية خلال عشرينيات القرن الماضي، حيث أنه أول فريق مصري يفوز بلقب رسمي على الإطلاق عندما فاز ببطولة كأس السلطان حسين عام 1921، كما أنه أول فريق يفوز بكأس مصر عام 1922، وأول فريق يفوز بدوري منطقة القاهرة موسم 1922-23. نادي الزمالك هو ثاني أكثر الأندية نجاحًا في تاريخ كرة القدم المصرية من حيث عدد البطولات المحلية، فقد حصل على درع الدوري المصري الممتاز 14 مرة، وكأس مصر 28 مرة وكأس السوبر 4 مرات ودوري منطقة القاهرة 14 مرة وكأس السلطان حسين مرتين وكأس أكتوبر مرة وكأس الصداقة المصرية مرة وكأس الاتحاد المصري التنشيطية مرة. يحمل النادي منافسة طويلة الأمد مع الأهلي، وتسمى مبارياتهما بـ «مباراة القمة»، أو «ديربي القاهرة».'''"
   ]
  },
  {
   "cell_type": "code",
   "execution_count": 2,
   "id": "8554d20f",
   "metadata": {
    "execution": {
     "iopub.execute_input": "2024-11-18T15:25:32.427236Z",
     "iopub.status.busy": "2024-11-18T15:25:32.426220Z",
     "iopub.status.idle": "2024-11-18T15:25:32.434594Z",
     "shell.execute_reply": "2024-11-18T15:25:32.433372Z"
    },
    "papermill": {
     "duration": 0.022552,
     "end_time": "2024-11-18T15:25:32.437102",
     "exception": false,
     "start_time": "2024-11-18T15:25:32.414550",
     "status": "completed"
    },
    "tags": []
   },
   "outputs": [
    {
     "data": {
      "text/plain": [
       "1690"
      ]
     },
     "execution_count": 2,
     "metadata": {},
     "output_type": "execute_result"
    }
   ],
   "source": [
    "len(T)"
   ]
  },
  {
   "cell_type": "code",
   "execution_count": 3,
   "id": "74a05a15",
   "metadata": {
    "execution": {
     "iopub.execute_input": "2024-11-18T15:25:32.460886Z",
     "iopub.status.busy": "2024-11-18T15:25:32.460477Z",
     "iopub.status.idle": "2024-11-18T15:25:32.467400Z",
     "shell.execute_reply": "2024-11-18T15:25:32.466385Z"
    },
    "papermill": {
     "duration": 0.021707,
     "end_time": "2024-11-18T15:25:32.469791",
     "exception": false,
     "start_time": "2024-11-18T15:25:32.448084",
     "status": "completed"
    },
    "tags": []
   },
   "outputs": [
    {
     "data": {
      "text/plain": [
       "283"
      ]
     },
     "execution_count": 3,
     "metadata": {},
     "output_type": "execute_result"
    }
   ],
   "source": [
    "len(T.split())"
   ]
  },
  {
   "cell_type": "code",
   "execution_count": 4,
   "id": "64d1ec81",
   "metadata": {
    "execution": {
     "iopub.execute_input": "2024-11-18T15:25:32.493213Z",
     "iopub.status.busy": "2024-11-18T15:25:32.492844Z",
     "iopub.status.idle": "2024-11-18T15:25:32.498322Z",
     "shell.execute_reply": "2024-11-18T15:25:32.497269Z"
    },
    "papermill": {
     "duration": 0.020391,
     "end_time": "2024-11-18T15:25:32.501181",
     "exception": false,
     "start_time": "2024-11-18T15:25:32.480790",
     "status": "completed"
    },
    "tags": []
   },
   "outputs": [
    {
     "name": "stdout",
     "output_type": "stream",
     "text": [
      "{'ة', 'h', '«', 'l', 'ت', '5', 'k', 'u', 'c', 'ر', 'د', 'ب', 'i', 'و', '\\n', 'w', 'ذ', 'خ', ',', 'ُ', 'ه', '9', 'ي', 'ح', 's', '.', 'ف', 'أ', 't', 'r', 'p', 'م', 'b', 'x', 'ٍ', 'f', 'ث', 'س', '-', '3', 'ن', 'ط', 'ج', 'ش', 'ض', 'َ', 'ً', '،', 'ص', 'n', 'ى', '2', 'ـ', 'g', 'ع', 'v', 'a', ' ', 'm', 'y', 'ز', '1', 'e', '!', 'ئ', '»', '8', 'ل', 'إ', 'ك', 'j', 'T', '4', 'ِ', 'W', 'ا', 'ق', 'ء', 'd', 'o'}\n"
     ]
    }
   ],
   "source": [
    "print(set(T))\n"
   ]
  },
  {
   "cell_type": "code",
   "execution_count": 5,
   "id": "a69fe595",
   "metadata": {
    "execution": {
     "iopub.execute_input": "2024-11-18T15:25:32.526277Z",
     "iopub.status.busy": "2024-11-18T15:25:32.525907Z",
     "iopub.status.idle": "2024-11-18T15:25:33.330296Z",
     "shell.execute_reply": "2024-11-18T15:25:33.329184Z"
    },
    "papermill": {
     "duration": 0.81996,
     "end_time": "2024-11-18T15:25:33.332694",
     "exception": false,
     "start_time": "2024-11-18T15:25:32.512734",
     "status": "completed"
    },
    "tags": []
   },
   "outputs": [],
   "source": [
    "import pandas as pd"
   ]
  },
  {
   "cell_type": "code",
   "execution_count": 6,
   "id": "6a1e8534",
   "metadata": {
    "execution": {
     "iopub.execute_input": "2024-11-18T15:25:33.357543Z",
     "iopub.status.busy": "2024-11-18T15:25:33.357006Z",
     "iopub.status.idle": "2024-11-18T15:25:33.378106Z",
     "shell.execute_reply": "2024-11-18T15:25:33.377012Z"
    },
    "papermill": {
     "duration": 0.036471,
     "end_time": "2024-11-18T15:25:33.380408",
     "exception": false,
     "start_time": "2024-11-18T15:25:33.343937",
     "status": "completed"
    },
    "tags": []
   },
   "outputs": [
    {
     "data": {
      "text/plain": [
       "     278\n",
       "ا    127\n",
       "ل    100\n",
       "ي     86\n",
       "م     69\n",
       "    ... \n",
       "َ      1\n",
       "8      1\n",
       "ـ      1\n",
       "!      1\n",
       "x      1\n",
       "Name: count, Length: 80, dtype: int64"
      ]
     },
     "execution_count": 6,
     "metadata": {},
     "output_type": "execute_result"
    }
   ],
   "source": [
    "pd.Series([i for i in T]).value_counts()"
   ]
  },
  {
   "cell_type": "code",
   "execution_count": 7,
   "id": "db9ab7d6",
   "metadata": {
    "execution": {
     "iopub.execute_input": "2024-11-18T15:25:33.403880Z",
     "iopub.status.busy": "2024-11-18T15:25:33.403445Z",
     "iopub.status.idle": "2024-11-18T15:25:33.410862Z",
     "shell.execute_reply": "2024-11-18T15:25:33.409897Z"
    },
    "papermill": {
     "duration": 0.021802,
     "end_time": "2024-11-18T15:25:33.413059",
     "exception": false,
     "start_time": "2024-11-18T15:25:33.391257",
     "status": "completed"
    },
    "tags": []
   },
   "outputs": [
    {
     "data": {
      "text/plain": [
       "'Wikidata is a free and open knowledge base that can be read and edited by both humans and machinesWikidata acts as central storage for the structured data of its Wikimedia sister projects including Wikipedia Wikivoyage Wiktionary Wikisource and othersWikidata also provides support to many other sites and services beyond just Wikimedia projects The content of Wikidata is available under a free license exported using standard formats and can be interlinked to other open data sets on the linked data web                                                      5  1911                                                        1921         1922        192223                         14    28    4     14                                '"
      ]
     },
     "execution_count": 7,
     "metadata": {},
     "output_type": "execute_result"
    }
   ],
   "source": [
    "CleanedT = ''.join([ i for i in T if i.lower() in '1234567890wertyuiopasdfghjklzxcvbnm '])\n",
    "CleanedT"
   ]
  },
  {
   "cell_type": "code",
   "execution_count": 8,
   "id": "9939b5e4",
   "metadata": {
    "execution": {
     "iopub.execute_input": "2024-11-18T15:25:33.437185Z",
     "iopub.status.busy": "2024-11-18T15:25:33.436408Z",
     "iopub.status.idle": "2024-11-18T15:25:33.444578Z",
     "shell.execute_reply": "2024-11-18T15:25:33.443386Z"
    },
    "papermill": {
     "duration": 0.022851,
     "end_time": "2024-11-18T15:25:33.446967",
     "exception": false,
     "start_time": "2024-11-18T15:25:33.424116",
     "status": "completed"
    },
    "tags": []
   },
   "outputs": [
    {
     "data": {
      "text/plain": [
       "{' ',\n",
       " '1',\n",
       " '2',\n",
       " '3',\n",
       " '4',\n",
       " '5',\n",
       " '8',\n",
       " '9',\n",
       " 'T',\n",
       " 'W',\n",
       " 'a',\n",
       " 'b',\n",
       " 'c',\n",
       " 'd',\n",
       " 'e',\n",
       " 'f',\n",
       " 'g',\n",
       " 'h',\n",
       " 'i',\n",
       " 'j',\n",
       " 'k',\n",
       " 'l',\n",
       " 'm',\n",
       " 'n',\n",
       " 'o',\n",
       " 'p',\n",
       " 'r',\n",
       " 's',\n",
       " 't',\n",
       " 'u',\n",
       " 'v',\n",
       " 'w',\n",
       " 'x',\n",
       " 'y'}"
      ]
     },
     "execution_count": 8,
     "metadata": {},
     "output_type": "execute_result"
    }
   ],
   "source": [
    "set(CleanedT)"
   ]
  },
  {
   "cell_type": "code",
   "execution_count": 9,
   "id": "1067d463",
   "metadata": {
    "execution": {
     "iopub.execute_input": "2024-11-18T15:25:33.470951Z",
     "iopub.status.busy": "2024-11-18T15:25:33.470553Z",
     "iopub.status.idle": "2024-11-18T15:25:33.478739Z",
     "shell.execute_reply": "2024-11-18T15:25:33.477534Z"
    },
    "papermill": {
     "duration": 0.022817,
     "end_time": "2024-11-18T15:25:33.481036",
     "exception": false,
     "start_time": "2024-11-18T15:25:33.458219",
     "status": "completed"
    },
    "tags": []
   },
   "outputs": [
    {
     "data": {
      "text/plain": [
       "'                                                                               نادي الزمالك لللعاب الرياضية و كما يعرف اختصارا باسم نادي الزمالك هو ناد رياضي مصري محترف يلعب في الدوري المصري الممتاز ومقره في اليزة وهو واحد من سبعة ندية على مستوى العالم لم تهبط للدرة الدنى والوحيد في مصر بانب النادي الهلي الذي لم يهبط لى دوري الدرة الثانيةتسس نادي الزمالك لللعاب الرياضية بتاريخ  يناير  على يد البليكي ور مرزباخ ليضم في عضويته المصريين والانب معا وسريعا قام عضاء النادي المصريون بثورتهم لتمصير النادي وبعاد الانب عن ملس الدارة ثبت الزمالك نفسه كحد القوتين الرئيسيتين في كرة القدم المصرية خلال عشرينيات القرن الماضي حيث نه ول فريق مصري يفوز بلقب رسمي على الطلاق عندما فاز ببطولة كس السلطان حسين عام  كما نه ول فريق يفوز بكس مصر عام  وول فريق يفوز بدوري منطقة القاهرة موسم  نادي الزمالك هو ثاني كثر الندية ناحا في تاريخ كرة القدم المصرية من حيث عدد البطولات المحلية فقد حصل على درع الدوري المصري الممتاز  مرة وكس مصر  مرة وكس السوبر  مرات ودوري منطقة القاهرة  مرة وكس السلطان حسين مرتين وكس كتوبر مرة وكس الصداقة المصرية مرة وكس الاتحاد المصري التنشيطية مرة يحمل النادي منافسة طويلة المد مع الهلي وتسمى مبارياتهما ب مباراة القمة و ديربي القاهرة'"
      ]
     },
     "execution_count": 9,
     "metadata": {},
     "output_type": "execute_result"
    }
   ],
   "source": [
    "CleanedT = ''.join([ i for i in T if i.lower() in 'ضصثقفغعهخحشسيبلاتنمكط\\دئءؤرلاىةوزظذ '])\n",
    "CleanedT"
   ]
  },
  {
   "cell_type": "code",
   "execution_count": 10,
   "id": "c39f0dc0",
   "metadata": {
    "execution": {
     "iopub.execute_input": "2024-11-18T15:25:33.505484Z",
     "iopub.status.busy": "2024-11-18T15:25:33.505071Z",
     "iopub.status.idle": "2024-11-18T15:25:33.512691Z",
     "shell.execute_reply": "2024-11-18T15:25:33.511603Z"
    },
    "papermill": {
     "duration": 0.022599,
     "end_time": "2024-11-18T15:25:33.515112",
     "exception": false,
     "start_time": "2024-11-18T15:25:33.492513",
     "status": "completed"
    },
    "tags": []
   },
   "outputs": [
    {
     "data": {
      "text/plain": [
       "{' ',\n",
       " 'ء',\n",
       " 'ئ',\n",
       " 'ا',\n",
       " 'ب',\n",
       " 'ة',\n",
       " 'ت',\n",
       " 'ث',\n",
       " 'ح',\n",
       " 'خ',\n",
       " 'د',\n",
       " 'ذ',\n",
       " 'ر',\n",
       " 'ز',\n",
       " 'س',\n",
       " 'ش',\n",
       " 'ص',\n",
       " 'ض',\n",
       " 'ط',\n",
       " 'ع',\n",
       " 'ف',\n",
       " 'ق',\n",
       " 'ك',\n",
       " 'ل',\n",
       " 'م',\n",
       " 'ن',\n",
       " 'ه',\n",
       " 'و',\n",
       " 'ى',\n",
       " 'ي'}"
      ]
     },
     "execution_count": 10,
     "metadata": {},
     "output_type": "execute_result"
    }
   ],
   "source": [
    "set(CleanedT)"
   ]
  },
  {
   "cell_type": "markdown",
   "id": "e114ef24",
   "metadata": {
    "papermill": {
     "duration": 0.011229,
     "end_time": "2024-11-18T15:25:33.537906",
     "exception": false,
     "start_time": "2024-11-18T15:25:33.526677",
     "status": "completed"
    },
    "tags": []
   },
   "source": [
    "## re "
   ]
  },
  {
   "cell_type": "code",
   "execution_count": 11,
   "id": "6f457738",
   "metadata": {
    "execution": {
     "iopub.execute_input": "2024-11-18T15:25:33.562777Z",
     "iopub.status.busy": "2024-11-18T15:25:33.562351Z",
     "iopub.status.idle": "2024-11-18T15:25:33.568524Z",
     "shell.execute_reply": "2024-11-18T15:25:33.567277Z"
    },
    "papermill": {
     "duration": 0.021732,
     "end_time": "2024-11-18T15:25:33.571216",
     "exception": false,
     "start_time": "2024-11-18T15:25:33.549484",
     "status": "completed"
    },
    "tags": []
   },
   "outputs": [
    {
     "name": "stdout",
     "output_type": "stream",
     "text": [
      "This is one type of url: HIDDEN LINK and the other url is HIDDEN LINK\n"
     ]
    }
   ],
   "source": [
    "import re\n",
    "# re.sub(pattern, replacement_text, text)\n",
    "url_text = \"This is one type of url: https://www.wikipedia.com and the other url is http://www.wikipedia.com\"\n",
    "print(re.sub(\"(http\\S+)\", \"HIDDEN LINK\", url_text))"
   ]
  },
  {
   "cell_type": "code",
   "execution_count": 12,
   "id": "29de7d98",
   "metadata": {
    "execution": {
     "iopub.execute_input": "2024-11-18T15:25:33.596385Z",
     "iopub.status.busy": "2024-11-18T15:25:33.595978Z",
     "iopub.status.idle": "2024-11-18T15:25:33.601996Z",
     "shell.execute_reply": "2024-11-18T15:25:33.600927Z"
    },
    "papermill": {
     "duration": 0.021539,
     "end_time": "2024-11-18T15:25:33.604555",
     "exception": false,
     "start_time": "2024-11-18T15:25:33.583016",
     "status": "completed"
    },
    "tags": []
   },
   "outputs": [
    {
     "name": "stdout",
     "output_type": "stream",
     "text": [
      "Please contact us at  or  or on the phone number\n"
     ]
    }
   ],
   "source": [
    "email_text = \"Please contact us at priyanka-madiraju7445@company.com or priyanka.madiraju@company.com or on the phone number\"\n",
    "print(re.sub(\"([\\w\\.\\-\\_]+@[\\w\\.\\-\\_]+)\", \"\", email_text))"
   ]
  },
  {
   "cell_type": "code",
   "execution_count": 13,
   "id": "71491a6f",
   "metadata": {
    "execution": {
     "iopub.execute_input": "2024-11-18T15:25:33.631957Z",
     "iopub.status.busy": "2024-11-18T15:25:33.630971Z",
     "iopub.status.idle": "2024-11-18T15:25:33.636794Z",
     "shell.execute_reply": "2024-11-18T15:25:33.635800Z"
    },
    "papermill": {
     "duration": 0.022689,
     "end_time": "2024-11-18T15:25:33.638943",
     "exception": false,
     "start_time": "2024-11-18T15:25:33.616254",
     "status": "completed"
    },
    "tags": []
   },
   "outputs": [
    {
     "name": "stdout",
     "output_type": "stream",
     "text": [
      "Phone Numbers are  and \n"
     ]
    }
   ],
   "source": [
    "numbers_text = \"Phone Numbers are 33635353 and 9383777\"\n",
    "print(re.sub(\"(\\d+)\", \"\", numbers_text))"
   ]
  },
  {
   "cell_type": "code",
   "execution_count": 14,
   "id": "d0bc7ca3",
   "metadata": {
    "execution": {
     "iopub.execute_input": "2024-11-18T15:25:33.664463Z",
     "iopub.status.busy": "2024-11-18T15:25:33.664022Z",
     "iopub.status.idle": "2024-11-18T15:25:33.670185Z",
     "shell.execute_reply": "2024-11-18T15:25:33.669157Z"
    },
    "papermill": {
     "duration": 0.021454,
     "end_time": "2024-11-18T15:25:33.672401",
     "exception": false,
     "start_time": "2024-11-18T15:25:33.650947",
     "status": "completed"
    },
    "tags": []
   },
   "outputs": [
    {
     "name": "stdout",
     "output_type": "stream",
     "text": [
      "And I in going, madam, weep o'er my father's death anew: but I must attend his majesty's command, to  whom I am now in ward, evermore in subjection.\n"
     ]
    }
   ],
   "source": [
    "newline_text = \"And I in going, madam, weep o'er my father's death\\n\\n anew: but I must attend his majesty's command, to \\n whom I am now in ward, evermore in subjection.\"\n",
    "print(re.sub(\"(\\n+)\", \"\", newline_text))"
   ]
  },
  {
   "cell_type": "code",
   "execution_count": 15,
   "id": "33ee07e0",
   "metadata": {
    "execution": {
     "iopub.execute_input": "2024-11-18T15:25:33.698324Z",
     "iopub.status.busy": "2024-11-18T15:25:33.697347Z",
     "iopub.status.idle": "2024-11-18T15:25:33.703269Z",
     "shell.execute_reply": "2024-11-18T15:25:33.702227Z"
    },
    "papermill": {
     "duration": 0.021542,
     "end_time": "2024-11-18T15:25:33.705836",
     "exception": false,
     "start_time": "2024-11-18T15:25:33.684294",
     "status": "completed"
    },
    "tags": []
   },
   "outputs": [
    {
     "name": "stdout",
     "output_type": "stream",
     "text": [
      "This is one type of url: and the other url is \n"
     ]
    }
   ],
   "source": [
    "url_text_output = \"This is one type of url:  and      the other url is \"\n",
    "print(re.sub(\"(\\s){2,}\", \" \", url_text_output))"
   ]
  },
  {
   "cell_type": "code",
   "execution_count": 16,
   "id": "addacff9",
   "metadata": {
    "execution": {
     "iopub.execute_input": "2024-11-18T15:25:33.732096Z",
     "iopub.status.busy": "2024-11-18T15:25:33.731165Z",
     "iopub.status.idle": "2024-11-18T15:25:33.737441Z",
     "shell.execute_reply": "2024-11-18T15:25:33.736305Z"
    },
    "papermill": {
     "duration": 0.022558,
     "end_time": "2024-11-18T15:25:33.740334",
     "exception": false,
     "start_time": "2024-11-18T15:25:33.717776",
     "status": "completed"
    },
    "tags": []
   },
   "outputs": [
    {
     "name": "stdout",
     "output_type": "stream",
     "text": [
      "his is one type of url nd the other url is  \n"
     ]
    }
   ],
   "source": [
    "url_text_output = \"This is one type of url: And the other url is 341531351 زسيرةسير\"\n",
    "# print(re.sub(\"([^a-zA-Z\\s])\", \"\", url_text_output))\n",
    "print(re.sub(\"([^a-z\\s])\", \"\", url_text_output))"
   ]
  },
  {
   "cell_type": "code",
   "execution_count": 17,
   "id": "6068781b",
   "metadata": {
    "execution": {
     "iopub.execute_input": "2024-11-18T15:25:33.766437Z",
     "iopub.status.busy": "2024-11-18T15:25:33.766017Z",
     "iopub.status.idle": "2024-11-18T15:25:33.772565Z",
     "shell.execute_reply": "2024-11-18T15:25:33.771497Z"
    },
    "papermill": {
     "duration": 0.023488,
     "end_time": "2024-11-18T15:25:33.776251",
     "exception": false,
     "start_time": "2024-11-18T15:25:33.752763",
     "status": "completed"
    },
    "tags": []
   },
   "outputs": [
    {
     "name": "stdout",
     "output_type": "stream",
     "text": [
      "Hello World my name is khaled el zablawy\n"
     ]
    }
   ],
   "source": [
    "import re\n",
    "\n",
    "url_text_output = \"Hello,  World! my name is khaled el     zablawy 16@.\"\n",
    "\n",
    "# تنظيف النص من الرموز غير الأحرف والمسافات\n",
    "cleaned_text = re.sub(\"([^a-zA-Z\\s])\", \"\", url_text_output)\n",
    "\n",
    "# تحويل المسافات المتعددة إلى مسافة واحدة\n",
    "final_text = re.sub(\"\\s+\", \" \", cleaned_text).strip()\n",
    "\n",
    "print(final_text)\n"
   ]
  },
  {
   "cell_type": "code",
   "execution_count": 18,
   "id": "34c18731",
   "metadata": {
    "execution": {
     "iopub.execute_input": "2024-11-18T15:25:33.802170Z",
     "iopub.status.busy": "2024-11-18T15:25:33.801765Z",
     "iopub.status.idle": "2024-11-18T15:25:33.808144Z",
     "shell.execute_reply": "2024-11-18T15:25:33.807015Z"
    },
    "papermill": {
     "duration": 0.022006,
     "end_time": "2024-11-18T15:25:33.810358",
     "exception": false,
     "start_time": "2024-11-18T15:25:33.788352",
     "status": "completed"
    },
    "tags": []
   },
   "outputs": [
    {
     "name": "stdout",
     "output_type": "stream",
     "text": [
      " خالد مهندس ذكاء اصطناعي \n"
     ]
    }
   ],
   "source": [
    "T = 'skldf;vsdvjk63541564654ln خالد مهندس ذكاء اصطناعي '\n",
    "print(re.sub(\"([^ضصثقفغعهخحجدشسيبلاتنمكطئءؤرلاىةوزظذ\\s])\", \"\", T))\n"
   ]
  },
  {
   "cell_type": "code",
   "execution_count": 19,
   "id": "c28c2a24",
   "metadata": {
    "execution": {
     "iopub.execute_input": "2024-11-18T15:25:33.836009Z",
     "iopub.status.busy": "2024-11-18T15:25:33.835572Z",
     "iopub.status.idle": "2024-11-18T15:25:33.841512Z",
     "shell.execute_reply": "2024-11-18T15:25:33.840406Z"
    },
    "papermill": {
     "duration": 0.021621,
     "end_time": "2024-11-18T15:25:33.843882",
     "exception": false,
     "start_time": "2024-11-18T15:25:33.822261",
     "status": "completed"
    },
    "tags": []
   },
   "outputs": [
    {
     "name": "stdout",
     "output_type": "stream",
     "text": [
      "   I am  living in the quiet of shadows but within me lies a sleeping beast Beware of awakening it for the calm you see now is merely the calm before the storm\n"
     ]
    }
   ],
   "source": [
    "trailing_leading_text = \"   I am  living in the quiet of shadows but within me lies a sleeping beast Beware of awakening it for the calm you see now is merely the calm before the storm\"\n",
    "# print(trailing_leading_text.strip())\n",
    "# print(trailing_leading_text.lstrip())\n",
    "print(trailing_leading_text.rstrip())"
   ]
  },
  {
   "cell_type": "code",
   "execution_count": 20,
   "id": "d969f73d",
   "metadata": {
    "execution": {
     "iopub.execute_input": "2024-11-18T15:25:33.869572Z",
     "iopub.status.busy": "2024-11-18T15:25:33.869158Z",
     "iopub.status.idle": "2024-11-18T15:25:33.874824Z",
     "shell.execute_reply": "2024-11-18T15:25:33.873527Z"
    },
    "papermill": {
     "duration": 0.021805,
     "end_time": "2024-11-18T15:25:33.877687",
     "exception": false,
     "start_time": "2024-11-18T15:25:33.855882",
     "status": "completed"
    },
    "tags": []
   },
   "outputs": [
    {
     "name": "stdout",
     "output_type": "stream",
     "text": [
      "This  or substring can be removed\n"
     ]
    }
   ],
   "source": [
    "example_text = \"This word or substring can be removed\"\n",
    "print(example_text.replace(\"word\", \"\"))"
   ]
  },
  {
   "cell_type": "code",
   "execution_count": 21,
   "id": "ee5192e6",
   "metadata": {
    "execution": {
     "iopub.execute_input": "2024-11-18T15:25:33.904357Z",
     "iopub.status.busy": "2024-11-18T15:25:33.903959Z",
     "iopub.status.idle": "2024-11-18T15:25:33.909418Z",
     "shell.execute_reply": "2024-11-18T15:25:33.908395Z"
    },
    "papermill": {
     "duration": 0.021855,
     "end_time": "2024-11-18T15:25:33.911888",
     "exception": false,
     "start_time": "2024-11-18T15:25:33.890033",
     "status": "completed"
    },
    "tags": []
   },
   "outputs": [
    {
     "name": "stdout",
     "output_type": "stream",
     "text": [
      "This  or substring can be removed but not s\n"
     ]
    }
   ],
   "source": [
    "example_text = \"This word or substring can be removed but not words\"\n",
    "print(example_text.replace(\"word\", \"\"))"
   ]
  },
  {
   "cell_type": "code",
   "execution_count": 22,
   "id": "276a7bb6",
   "metadata": {
    "execution": {
     "iopub.execute_input": "2024-11-18T15:25:33.938004Z",
     "iopub.status.busy": "2024-11-18T15:25:33.937597Z",
     "iopub.status.idle": "2024-11-18T15:25:33.943398Z",
     "shell.execute_reply": "2024-11-18T15:25:33.942350Z"
    },
    "papermill": {
     "duration": 0.021754,
     "end_time": "2024-11-18T15:25:33.945718",
     "exception": false,
     "start_time": "2024-11-18T15:25:33.923964",
     "status": "completed"
    },
    "tags": []
   },
   "outputs": [
    {
     "name": "stdout",
     "output_type": "stream",
     "text": [
      "This  or substring can be removed but not words\n"
     ]
    }
   ],
   "source": [
    "print(re.sub(r\"(\\bword\\b)\", \"\", example_text))"
   ]
  },
  {
   "cell_type": "code",
   "execution_count": 23,
   "id": "1ba22a89",
   "metadata": {
    "execution": {
     "iopub.execute_input": "2024-11-18T15:25:33.971990Z",
     "iopub.status.busy": "2024-11-18T15:25:33.971602Z",
     "iopub.status.idle": "2024-11-18T15:25:33.977788Z",
     "shell.execute_reply": "2024-11-18T15:25:33.976729Z"
    },
    "papermill": {
     "duration": 0.02258,
     "end_time": "2024-11-18T15:25:33.980495",
     "exception": false,
     "start_time": "2024-11-18T15:25:33.957915",
     "status": "completed"
    },
    "tags": []
   },
   "outputs": [
    {
     "name": "stdout",
     "output_type": "stream",
     "text": [
      "I love hearing music  classic bs\n",
      "I love hearing music  classic bands\n"
     ]
    }
   ],
   "source": [
    "T = 'I love hearing music and classic bands'\n",
    "\n",
    "print(T.replace('and',''))\n",
    "print(re.sub(r\"(\\band\\b)\", \"\", T))"
   ]
  },
  {
   "cell_type": "code",
   "execution_count": 24,
   "id": "5894e933",
   "metadata": {
    "execution": {
     "iopub.execute_input": "2024-11-18T15:25:34.007285Z",
     "iopub.status.busy": "2024-11-18T15:25:34.006887Z",
     "iopub.status.idle": "2024-11-18T15:25:34.014335Z",
     "shell.execute_reply": "2024-11-18T15:25:34.013185Z"
    },
    "papermill": {
     "duration": 0.023318,
     "end_time": "2024-11-18T15:25:34.016521",
     "exception": false,
     "start_time": "2024-11-18T15:25:33.993203",
     "status": "completed"
    },
    "tags": []
   },
   "outputs": [
    {
     "data": {
      "text/plain": [
       "'I love hearing music classic bands'"
      ]
     },
     "execution_count": 24,
     "metadata": {},
     "output_type": "execute_result"
    }
   ],
   "source": [
    "' '.join([i for i in T.split() if  i!='and'])"
   ]
  },
  {
   "cell_type": "code",
   "execution_count": 25,
   "id": "298c9b2f",
   "metadata": {
    "execution": {
     "iopub.execute_input": "2024-11-18T15:25:34.043566Z",
     "iopub.status.busy": "2024-11-18T15:25:34.042777Z",
     "iopub.status.idle": "2024-11-18T15:25:34.049059Z",
     "shell.execute_reply": "2024-11-18T15:25:34.047810Z"
    },
    "papermill": {
     "duration": 0.022438,
     "end_time": "2024-11-18T15:25:34.051340",
     "exception": false,
     "start_time": "2024-11-18T15:25:34.028902",
     "status": "completed"
    },
    "tags": []
   },
   "outputs": [
    {
     "name": "stdout",
     "output_type": "stream",
     "text": [
      "This is a paragraph with HTML tags.\n"
     ]
    }
   ],
   "source": [
    "# Removing HTML tags:\n",
    "import re\n",
    "text = \"<p>This is a paragraph with HTML tags.</p>\"\n",
    "clean_text = re.sub(r\"<.*?>\", \"\", text)\n",
    "print(clean_text)"
   ]
  },
  {
   "cell_type": "code",
   "execution_count": 26,
   "id": "dbbdf78b",
   "metadata": {
    "execution": {
     "iopub.execute_input": "2024-11-18T15:25:34.078174Z",
     "iopub.status.busy": "2024-11-18T15:25:34.077482Z",
     "iopub.status.idle": "2024-11-18T15:25:34.083194Z",
     "shell.execute_reply": "2024-11-18T15:25:34.082101Z"
    },
    "papermill": {
     "duration": 0.022155,
     "end_time": "2024-11-18T15:25:34.085926",
     "exception": false,
     "start_time": "2024-11-18T15:25:34.063771",
     "status": "completed"
    },
    "tags": []
   },
   "outputs": [
    {
     "name": "stdout",
     "output_type": "stream",
     "text": [
      "This is a sentence with punctuation\t\t\t\t\t\t\t\t\t\t\t\t\t\t\t\t\t\t\n"
     ]
    }
   ],
   "source": [
    "# This code will remove all HTML tags from the text and print the following output:\n",
    "\n",
    "# This is a paragraph with HTML tags.\n",
    "# Removing punctuation:\n",
    "\n",
    "import re\n",
    "text = \"This is a sentence with punctuation!???()+-*\t\t\t\t\t\t⛩️\t⛪️\t\t\t\t\t\t⛰️\t⛱️\t⛲️\t⛳️\t⛴️\t\"\n",
    "clean_text = re.sub(r\"[^\\w\\s]\", \"\", text)\n",
    "print(clean_text)"
   ]
  },
  {
   "cell_type": "code",
   "execution_count": 27,
   "id": "986694c4",
   "metadata": {
    "execution": {
     "iopub.execute_input": "2024-11-18T15:25:34.113655Z",
     "iopub.status.busy": "2024-11-18T15:25:34.113240Z",
     "iopub.status.idle": "2024-11-18T15:25:34.119993Z",
     "shell.execute_reply": "2024-11-18T15:25:34.118891Z"
    },
    "papermill": {
     "duration": 0.023831,
     "end_time": "2024-11-18T15:25:34.122350",
     "exception": false,
     "start_time": "2024-11-18T15:25:34.098519",
     "status": "completed"
    },
    "tags": []
   },
   "outputs": [
    {
     "name": "stdout",
     "output_type": "stream",
     "text": [
      "this is a sentence with mixed case.\n"
     ]
    }
   ],
   "source": [
    "# This code will remove all stop words from the text and print the following output:\n",
    "\n",
    "# Converting text to lowercase:\n",
    "import re\n",
    "text = \"This Is A Sentence With Mixed Case.\"\n",
    "clean_text = re.sub(r\"[A-Z]\", lambda m: m.group(0).lower(), text)\n",
    "print(clean_text)"
   ]
  },
  {
   "cell_type": "code",
   "execution_count": 28,
   "id": "25909e7f",
   "metadata": {
    "execution": {
     "iopub.execute_input": "2024-11-18T15:25:34.150344Z",
     "iopub.status.busy": "2024-11-18T15:25:34.149347Z",
     "iopub.status.idle": "2024-11-18T15:25:34.155757Z",
     "shell.execute_reply": "2024-11-18T15:25:34.154696Z"
    },
    "papermill": {
     "duration": 0.022871,
     "end_time": "2024-11-18T15:25:34.158019",
     "exception": false,
     "start_time": "2024-11-18T15:25:34.135148",
     "status": "completed"
    },
    "tags": []
   },
   "outputs": [
    {
     "name": "stdout",
     "output_type": "stream",
     "text": [
      " This is a sentence with extra whitespace. \n"
     ]
    }
   ],
   "source": [
    "# This code will convert all uppercase letters in the text to lowercase and print the following output:\n",
    "# this is a sentence with mixed case.\n",
    "# Removing extra whitespace:\n",
    "\n",
    "import re\n",
    "text = \" This is   a sentence  with extra whitespace. \"\n",
    "clean_text = re.sub(r\"\\s+\", \" \", text)\n",
    "print(clean_text)"
   ]
  },
  {
   "cell_type": "code",
   "execution_count": 29,
   "id": "5d88e42c",
   "metadata": {
    "execution": {
     "iopub.execute_input": "2024-11-18T15:25:34.186056Z",
     "iopub.status.busy": "2024-11-18T15:25:34.185651Z",
     "iopub.status.idle": "2024-11-18T15:25:34.193270Z",
     "shell.execute_reply": "2024-11-18T15:25:34.191990Z"
    },
    "papermill": {
     "duration": 0.024345,
     "end_time": "2024-11-18T15:25:34.195593",
     "exception": false,
     "start_time": "2024-11-18T15:25:34.171248",
     "status": "completed"
    },
    "tags": []
   },
   "outputs": [
    {
     "data": {
      "text/plain": [
       "'010-9621-4238'"
      ]
     },
     "execution_count": 29,
     "metadata": {},
     "output_type": "execute_result"
    }
   ],
   "source": [
    "text = \"My telephone number is 010-9621-4238 and mohamed`s phone is 856-987-6632 \"\n",
    "phone = re.search(r'\\d\\d\\d-\\d\\d\\d\\d-\\d\\d\\d\\d',text)\n",
    "phone.group()"
   ]
  },
  {
   "cell_type": "code",
   "execution_count": 30,
   "id": "d3472add",
   "metadata": {
    "execution": {
     "iopub.execute_input": "2024-11-18T15:25:34.223509Z",
     "iopub.status.busy": "2024-11-18T15:25:34.223087Z",
     "iopub.status.idle": "2024-11-18T15:25:34.230271Z",
     "shell.execute_reply": "2024-11-18T15:25:34.229220Z"
    },
    "papermill": {
     "duration": 0.024054,
     "end_time": "2024-11-18T15:25:34.232638",
     "exception": false,
     "start_time": "2024-11-18T15:25:34.208584",
     "status": "completed"
    },
    "tags": []
   },
   "outputs": [
    {
     "data": {
      "text/plain": [
       "<re.Match object; span=(23, 36), match='010-9621-4238'>"
      ]
     },
     "execution_count": 30,
     "metadata": {},
     "output_type": "execute_result"
    }
   ],
   "source": [
    "re.search(r'\\d{3}-\\d{4}-\\d{4}',text)\n"
   ]
  },
  {
   "cell_type": "code",
   "execution_count": 31,
   "id": "4577c8f6",
   "metadata": {
    "execution": {
     "iopub.execute_input": "2024-11-18T15:25:34.260468Z",
     "iopub.status.busy": "2024-11-18T15:25:34.260051Z",
     "iopub.status.idle": "2024-11-18T15:25:34.267164Z",
     "shell.execute_reply": "2024-11-18T15:25:34.266154Z"
    },
    "papermill": {
     "duration": 0.023446,
     "end_time": "2024-11-18T15:25:34.269329",
     "exception": false,
     "start_time": "2024-11-18T15:25:34.245883",
     "status": "completed"
    },
    "tags": []
   },
   "outputs": [
    {
     "data": {
      "text/plain": [
       "<re.Match object; span=(60, 72), match='856-987-6632'>"
      ]
     },
     "execution_count": 31,
     "metadata": {},
     "output_type": "execute_result"
    }
   ],
   "source": [
    "re.search(r'\\d{3}-\\d{3}-\\d{4}',text)\n"
   ]
  },
  {
   "cell_type": "code",
   "execution_count": 32,
   "id": "6b4ad753",
   "metadata": {
    "execution": {
     "iopub.execute_input": "2024-11-18T15:25:34.297303Z",
     "iopub.status.busy": "2024-11-18T15:25:34.296886Z",
     "iopub.status.idle": "2024-11-18T15:25:34.304172Z",
     "shell.execute_reply": "2024-11-18T15:25:34.303089Z"
    },
    "papermill": {
     "duration": 0.023694,
     "end_time": "2024-11-18T15:25:34.306404",
     "exception": false,
     "start_time": "2024-11-18T15:25:34.282710",
     "status": "completed"
    },
    "tags": []
   },
   "outputs": [
    {
     "data": {
      "text/plain": [
       "'856-987-6632'"
      ]
     },
     "execution_count": 32,
     "metadata": {},
     "output_type": "execute_result"
    }
   ],
   "source": [
    "phone_pattern =(r'(\\d{3})-(\\d{3})-(\\d{4})')\n",
    "results = re.search(phone_pattern,text)\n",
    "results.group()"
   ]
  },
  {
   "cell_type": "code",
   "execution_count": 33,
   "id": "fad98acd",
   "metadata": {
    "execution": {
     "iopub.execute_input": "2024-11-18T15:25:34.334193Z",
     "iopub.status.busy": "2024-11-18T15:25:34.333765Z",
     "iopub.status.idle": "2024-11-18T15:25:34.341146Z",
     "shell.execute_reply": "2024-11-18T15:25:34.339917Z"
    },
    "papermill": {
     "duration": 0.023874,
     "end_time": "2024-11-18T15:25:34.343384",
     "exception": false,
     "start_time": "2024-11-18T15:25:34.319510",
     "status": "completed"
    },
    "tags": []
   },
   "outputs": [
    {
     "data": {
      "text/plain": [
       "('856', '987', '6632')"
      ]
     },
     "execution_count": 33,
     "metadata": {},
     "output_type": "execute_result"
    }
   ],
   "source": [
    "results.group(1), results.group(2) , results.group(3)"
   ]
  },
  {
   "cell_type": "code",
   "execution_count": 34,
   "id": "76a617b9",
   "metadata": {
    "execution": {
     "iopub.execute_input": "2024-11-18T15:25:34.371813Z",
     "iopub.status.busy": "2024-11-18T15:25:34.371422Z",
     "iopub.status.idle": "2024-11-18T15:25:34.378380Z",
     "shell.execute_reply": "2024-11-18T15:25:34.377302Z"
    },
    "papermill": {
     "duration": 0.024213,
     "end_time": "2024-11-18T15:25:34.380914",
     "exception": false,
     "start_time": "2024-11-18T15:25:34.356701",
     "status": "completed"
    },
    "tags": []
   },
   "outputs": [
    {
     "data": {
      "text/plain": [
       "<re.Match object; span=(5, 8), match='man'>"
      ]
     },
     "execution_count": 34,
     "metadata": {},
     "output_type": "execute_result"
    }
   ],
   "source": [
    "re.search(r\"man|woman\",\"This man was here.\")"
   ]
  },
  {
   "cell_type": "code",
   "execution_count": 35,
   "id": "9503b35b",
   "metadata": {
    "execution": {
     "iopub.execute_input": "2024-11-18T15:25:34.409439Z",
     "iopub.status.busy": "2024-11-18T15:25:34.408983Z",
     "iopub.status.idle": "2024-11-18T15:25:34.415846Z",
     "shell.execute_reply": "2024-11-18T15:25:34.414854Z"
    },
    "papermill": {
     "duration": 0.023932,
     "end_time": "2024-11-18T15:25:34.418237",
     "exception": false,
     "start_time": "2024-11-18T15:25:34.394305",
     "status": "completed"
    },
    "tags": []
   },
   "outputs": [
    {
     "data": {
      "text/plain": [
       "['cat', 'hat', 'sat']"
      ]
     },
     "execution_count": 35,
     "metadata": {},
     "output_type": "execute_result"
    }
   ],
   "source": [
    "re.findall(r\".at\",\"The cat in the hat sat here.\")"
   ]
  },
  {
   "cell_type": "code",
   "execution_count": 36,
   "id": "b0df8af5",
   "metadata": {
    "execution": {
     "iopub.execute_input": "2024-11-18T15:25:34.447072Z",
     "iopub.status.busy": "2024-11-18T15:25:34.446593Z",
     "iopub.status.idle": "2024-11-18T15:25:34.453548Z",
     "shell.execute_reply": "2024-11-18T15:25:34.452500Z"
    },
    "papermill": {
     "duration": 0.024137,
     "end_time": "2024-11-18T15:25:34.455872",
     "exception": false,
     "start_time": "2024-11-18T15:25:34.431735",
     "status": "completed"
    },
    "tags": []
   },
   "outputs": [
    {
     "data": {
      "text/plain": [
       "['khaled ']"
      ]
     },
     "execution_count": 36,
     "metadata": {},
     "output_type": "execute_result"
    }
   ],
   "source": [
    "re.findall(r\"kh.....\",\"khaled ashraf is a good man \")"
   ]
  },
  {
   "cell_type": "code",
   "execution_count": 37,
   "id": "db789c37",
   "metadata": {
    "execution": {
     "iopub.execute_input": "2024-11-18T15:25:34.485086Z",
     "iopub.status.busy": "2024-11-18T15:25:34.484283Z",
     "iopub.status.idle": "2024-11-18T15:25:34.491412Z",
     "shell.execute_reply": "2024-11-18T15:25:34.490357Z"
    },
    "papermill": {
     "duration": 0.024185,
     "end_time": "2024-11-18T15:25:34.493624",
     "exception": false,
     "start_time": "2024-11-18T15:25:34.469439",
     "status": "completed"
    },
    "tags": []
   },
   "outputs": [
    {
     "data": {
      "text/plain": [
       "['bat', 'splat', '*plat']"
      ]
     },
     "execution_count": 37,
     "metadata": {},
     "output_type": "execute_result"
    }
   ],
   "source": [
    "re.findall(r'\\S+at',\"The bat went splat *plat\")"
   ]
  },
  {
   "cell_type": "code",
   "execution_count": 38,
   "id": "172c2c1b",
   "metadata": {
    "execution": {
     "iopub.execute_input": "2024-11-18T15:25:34.522939Z",
     "iopub.status.busy": "2024-11-18T15:25:34.522519Z",
     "iopub.status.idle": "2024-11-18T15:25:34.529265Z",
     "shell.execute_reply": "2024-11-18T15:25:34.528323Z"
    },
    "papermill": {
     "duration": 0.02433,
     "end_time": "2024-11-18T15:25:34.531711",
     "exception": false,
     "start_time": "2024-11-18T15:25:34.507381",
     "status": "completed"
    },
    "tags": []
   },
   "outputs": [
    {
     "data": {
      "text/plain": [
       "['8']"
      ]
     },
     "execution_count": 38,
     "metadata": {},
     "output_type": "execute_result"
    }
   ],
   "source": [
    "re.findall(r'\\d$','This ends with a number 28')"
   ]
  },
  {
   "cell_type": "code",
   "execution_count": 39,
   "id": "3c8340f1",
   "metadata": {
    "execution": {
     "iopub.execute_input": "2024-11-18T15:25:34.561279Z",
     "iopub.status.busy": "2024-11-18T15:25:34.560880Z",
     "iopub.status.idle": "2024-11-18T15:25:34.567725Z",
     "shell.execute_reply": "2024-11-18T15:25:34.566653Z"
    },
    "papermill": {
     "duration": 0.024264,
     "end_time": "2024-11-18T15:25:34.569986",
     "exception": false,
     "start_time": "2024-11-18T15:25:34.545722",
     "status": "completed"
    },
    "tags": []
   },
   "outputs": [
    {
     "data": {
      "text/plain": [
       "' is the loneliest number.'"
      ]
     },
     "execution_count": 39,
     "metadata": {},
     "output_type": "execute_result"
    }
   ],
   "source": [
    "''.join(re.findall(r'[^\\d]','1 is the loneliest number.'))"
   ]
  },
  {
   "cell_type": "code",
   "execution_count": 40,
   "id": "4a1eeee3",
   "metadata": {
    "execution": {
     "iopub.execute_input": "2024-11-18T15:25:34.599063Z",
     "iopub.status.busy": "2024-11-18T15:25:34.598681Z",
     "iopub.status.idle": "2024-11-18T15:25:34.605347Z",
     "shell.execute_reply": "2024-11-18T15:25:34.604509Z"
    },
    "papermill": {
     "duration": 0.023862,
     "end_time": "2024-11-18T15:25:34.607551",
     "exception": false,
     "start_time": "2024-11-18T15:25:34.583689",
     "status": "completed"
    },
    "tags": []
   },
   "outputs": [
    {
     "data": {
      "text/plain": [
       "['1']"
      ]
     },
     "execution_count": 40,
     "metadata": {},
     "output_type": "execute_result"
    }
   ],
   "source": [
    "re.findall(r'^\\d','1 is the loneliest number.')"
   ]
  },
  {
   "cell_type": "code",
   "execution_count": 41,
   "id": "d10cebc7",
   "metadata": {
    "execution": {
     "iopub.execute_input": "2024-11-18T15:25:34.638446Z",
     "iopub.status.busy": "2024-11-18T15:25:34.638016Z",
     "iopub.status.idle": "2024-11-18T15:25:34.645014Z",
     "shell.execute_reply": "2024-11-18T15:25:34.644044Z"
    },
    "papermill": {
     "duration": 0.02566,
     "end_time": "2024-11-18T15:25:34.647181",
     "exception": false,
     "start_time": "2024-11-18T15:25:34.621521",
     "status": "completed"
    },
    "tags": []
   },
   "outputs": [
    {
     "data": {
      "text/plain": [
       "['there are ', ' numbers ', ' inside ', ' this sentence.']"
      ]
     },
     "execution_count": 41,
     "metadata": {},
     "output_type": "execute_result"
    }
   ],
   "source": [
    "phrase = \"there are 3 numbers 34 inside 5 this sentence.\"\n",
    "re.findall(r'[^\\d]+',phrase)"
   ]
  },
  {
   "cell_type": "code",
   "execution_count": 42,
   "id": "37717afa",
   "metadata": {
    "execution": {
     "iopub.execute_input": "2024-11-18T15:25:34.677384Z",
     "iopub.status.busy": "2024-11-18T15:25:34.676662Z",
     "iopub.status.idle": "2024-11-18T15:25:34.682642Z",
     "shell.execute_reply": "2024-11-18T15:25:34.681670Z"
    },
    "papermill": {
     "duration": 0.023699,
     "end_time": "2024-11-18T15:25:34.685076",
     "exception": false,
     "start_time": "2024-11-18T15:25:34.661377",
     "status": "completed"
    },
    "tags": []
   },
   "outputs": [
    {
     "name": "stdout",
     "output_type": "stream",
     "text": [
      "<>.<>\n"
     ]
    }
   ],
   "source": [
    "import re\n",
    "text = \"<p>This is a paragraph with HTML tags.</p>\"\n",
    "clean_text = re.sub(r\"[^<.*?>]\", \"\", text)\n",
    "print(clean_text)"
   ]
  },
  {
   "cell_type": "code",
   "execution_count": 43,
   "id": "fd9fa1ae",
   "metadata": {
    "execution": {
     "iopub.execute_input": "2024-11-18T15:25:34.715216Z",
     "iopub.status.busy": "2024-11-18T15:25:34.714485Z",
     "iopub.status.idle": "2024-11-18T15:25:34.721636Z",
     "shell.execute_reply": "2024-11-18T15:25:34.720579Z"
    },
    "papermill": {
     "duration": 0.024627,
     "end_time": "2024-11-18T15:25:34.723698",
     "exception": false,
     "start_time": "2024-11-18T15:25:34.699071",
     "status": "completed"
    },
    "tags": []
   },
   "outputs": [
    {
     "data": {
      "text/plain": [
       "['50', '8', '10']"
      ]
     },
     "execution_count": 43,
     "metadata": {},
     "output_type": "execute_result"
    }
   ],
   "source": [
    "phrase = 'قاد جورج مسافة 50 كيلو متر  من الساعة 8 الي الساعة 10'\n",
    "re.findall(r'[\\d]+',phrase)"
   ]
  },
  {
   "cell_type": "code",
   "execution_count": 44,
   "id": "10253ca2",
   "metadata": {
    "execution": {
     "iopub.execute_input": "2024-11-18T15:25:34.753943Z",
     "iopub.status.busy": "2024-11-18T15:25:34.753209Z",
     "iopub.status.idle": "2024-11-18T15:25:34.760013Z",
     "shell.execute_reply": "2024-11-18T15:25:34.759031Z"
    },
    "papermill": {
     "duration": 0.024385,
     "end_time": "2024-11-18T15:25:34.762142",
     "exception": false,
     "start_time": "2024-11-18T15:25:34.737757",
     "status": "completed"
    },
    "tags": []
   },
   "outputs": [
    {
     "data": {
      "text/plain": [
       "['قاد جورج مسافة ', ' كيلو متر  من الساعة ', ' الي الساعة ']"
      ]
     },
     "execution_count": 44,
     "metadata": {},
     "output_type": "execute_result"
    }
   ],
   "source": [
    "phrase = 'قاد جورج مسافة 50 كيلو متر  من الساعة 8 الي الساعة 10'\n",
    "re.findall(r'[^\\d]+',phrase)"
   ]
  },
  {
   "cell_type": "code",
   "execution_count": 45,
   "id": "ff2c3a16",
   "metadata": {
    "execution": {
     "iopub.execute_input": "2024-11-18T15:25:34.792381Z",
     "iopub.status.busy": "2024-11-18T15:25:34.791955Z",
     "iopub.status.idle": "2024-11-18T15:25:34.799370Z",
     "shell.execute_reply": "2024-11-18T15:25:34.798325Z"
    },
    "papermill": {
     "duration": 0.025069,
     "end_time": "2024-11-18T15:25:34.801465",
     "exception": false,
     "start_time": "2024-11-18T15:25:34.776396",
     "status": "completed"
    },
    "tags": []
   },
   "outputs": [
    {
     "data": {
      "text/plain": [
       "['نيو-يورك', 'سان-فرانسيسكو']"
      ]
     },
     "execution_count": 45,
     "metadata": {},
     "output_type": "execute_result"
    }
   ],
   "source": [
    "text = 'ذهبت الي مدينة نيو-يورك ,  و منها الي سان-فرانسيسكو'\n",
    "\n",
    "re.findall(r'[\\w]+-[\\w]+',text)"
   ]
  },
  {
   "cell_type": "code",
   "execution_count": 46,
   "id": "e00163d1",
   "metadata": {
    "execution": {
     "iopub.execute_input": "2024-11-18T15:25:34.832122Z",
     "iopub.status.busy": "2024-11-18T15:25:34.831715Z",
     "iopub.status.idle": "2024-11-18T15:25:34.839571Z",
     "shell.execute_reply": "2024-11-18T15:25:34.838494Z"
    },
    "papermill": {
     "duration": 0.026043,
     "end_time": "2024-11-18T15:25:34.841974",
     "exception": false,
     "start_time": "2024-11-18T15:25:34.815931",
     "status": "completed"
    },
    "tags": []
   },
   "outputs": [
    {
     "data": {
      "text/plain": [
       "['ماذا', 'كيف', 'تجرؤ', 'هل', 'تتخيل', 'عاقبة', 'هذا', 'الأمر', 'ويل', 'له']"
      ]
     },
     "execution_count": 46,
     "metadata": {},
     "output_type": "execute_result"
    }
   ],
   "source": [
    "test_phrase = ' ماذا ؟ ؟  كيف تجرؤ !! , هل تتخيل عاقبة هذا الأمر ؟ ؟  , ويل له . '\n",
    "re.findall('[^؟,!. ]+',test_phrase)"
   ]
  },
  {
   "cell_type": "code",
   "execution_count": 47,
   "id": "500f1dad",
   "metadata": {
    "execution": {
     "iopub.execute_input": "2024-11-18T15:25:34.873154Z",
     "iopub.status.busy": "2024-11-18T15:25:34.872767Z",
     "iopub.status.idle": "2024-11-18T15:25:34.878784Z",
     "shell.execute_reply": "2024-11-18T15:25:34.877597Z"
    },
    "papermill": {
     "duration": 0.024374,
     "end_time": "2024-11-18T15:25:34.881118",
     "exception": false,
     "start_time": "2024-11-18T15:25:34.856744",
     "status": "completed"
    },
    "tags": []
   },
   "outputs": [
    {
     "name": "stdout",
     "output_type": "stream",
     "text": [
      "ماذا كيف تجرؤ هل تتخيل عاقبة هذا الأمر ويل له\n"
     ]
    }
   ],
   "source": [
    "clean = ' '.join(re.findall('[^؟,!. ]+',test_phrase))\n",
    "print(clean)"
   ]
  }
 ],
 "metadata": {
  "kaggle": {
   "accelerator": "none",
   "dataSources": [],
   "dockerImageVersionId": 30786,
   "isGpuEnabled": false,
   "isInternetEnabled": true,
   "language": "python",
   "sourceType": "notebook"
  },
  "kernelspec": {
   "display_name": "Python 3",
   "language": "python",
   "name": "python3"
  },
  "language_info": {
   "codemirror_mode": {
    "name": "ipython",
    "version": 3
   },
   "file_extension": ".py",
   "mimetype": "text/x-python",
   "name": "python",
   "nbconvert_exporter": "python",
   "pygments_lexer": "ipython3",
   "version": "3.10.14"
  },
  "papermill": {
   "default_parameters": {},
   "duration": 5.847147,
   "end_time": "2024-11-18T15:25:35.416979",
   "environment_variables": {},
   "exception": null,
   "input_path": "__notebook__.ipynb",
   "output_path": "__notebook__.ipynb",
   "parameters": {},
   "start_time": "2024-11-18T15:25:29.569832",
   "version": "2.6.0"
  }
 },
 "nbformat": 4,
 "nbformat_minor": 5
}
